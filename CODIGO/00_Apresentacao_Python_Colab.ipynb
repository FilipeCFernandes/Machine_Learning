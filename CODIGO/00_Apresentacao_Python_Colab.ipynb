{
  "cells": [
    {
      "cell_type": "markdown",
      "metadata": {},
      "source": [
        "# 🐍 Introdução ao Python Notebook\n",
        "\n",
        "Este notebook tem como objetivo apresentar o ambiente _Notebook_ e revisar os principais conceitos básicos da linguagem Python. Vamos explorar:\n",
        "\n",
        "- Como usar textos e códigos no notebook\n",
        "- Variáveis\n",
        "- Entrada de dados\n",
        "- Condicionais (if/else)\n",
        "- Laços de repetição (for)\n",
        "- Listas\n",
        "- List Comprehensions"
      ]
    },
    {
      "cell_type": "markdown",
      "metadata": {},
      "source": [
        "## 📝 Blocos de Texto e Código\n",
        "\n",
        "No Google Colab, podemos usar dois tipos de células:\n",
        "\n",
        "- **Texto (Markdown)**: como esta!\n",
        "- **Código**: para escrever e executar comandos em Python.\n",
        "\n",
        "Use `Ctrl + Enter` para rodar a célula, ou o botão ▶️ à esquerda da célula.\n"
      ]
    },
    {
      "cell_type": "code",
      "execution_count": null,
      "metadata": {},
      "outputs": [],
      "source": [
        "print(\"Olá, mundo! Este é meu primeiro notebook no Google Colab!\")"
      ]
    },
    {
      "cell_type": "markdown",
      "metadata": {},
      "source": [
        "## 🧠 Variáveis em Python\n",
        "\n",
        "Variáveis são espaços de memória onde armazenamos dados. Exemplo:"
      ]
    },
    {
      "cell_type": "code",
      "execution_count": null,
      "metadata": {},
      "outputs": [
        {
          "name": "stdout",
          "output_type": "stream",
          "text": [
            "Nome: Ana\n",
            "Idade:  20\n",
            "Altura:  1.65\n"
          ]
        }
      ],
      "source": [
        "nome = \"Ana\"\n",
        "idade = 20\n",
        "altura = 1.65\n",
        "\n",
        "print(\"Nome:\", nome)\n",
        "print(\"Idade:\", idade)\n",
        "print(\"Altura:\", altura)"
      ]
    },
    {
      "cell_type": "markdown",
      "metadata": {},
      "source": [
        "### 🧪 Faça você mesmo:\n",
        "\n",
        "1. Crie uma variável chamada `curso` com o nome de um curso.  \n",
        "2. Crie uma variável `ano` com o valor do ano atual.  \n",
        "3. Imprima essas informações.\n"
      ]
    },
    {
      "cell_type": "code",
      "execution_count": null,
      "metadata": {},
      "outputs": [],
      "source": []
    },
    {
      "cell_type": "code",
      "execution_count": null,
      "metadata": {},
      "outputs": [],
      "source": []
    },
    {
      "cell_type": "markdown",
      "metadata": {},
      "source": [
        "## 🎯 Entrada de Dados\n",
        "\n",
        "Usamos `input()` para receber dados do usuário. Os dados sempre chegam como **strings**, então é comum convertê-los."
      ]
    },
    {
      "cell_type": "code",
      "execution_count": null,
      "metadata": {},
      "outputs": [],
      "source": [
        "nome = input(\"Digite seu nome: \")\n",
        "idade = int(input(\"Digite sua idade: \"))\n",
        "\n",
        "print(f\"Olá, {nome}! Você tem {idade} anos.\")"
      ]
    },
    {
      "cell_type": "markdown",
      "metadata": {},
      "source": [
        "### 🧪 Faça você mesmo:\n",
        "\n",
        "1. Peça ao usuário 2 números.  \n",
        "2. Some esses números e imprima o resultado.\n"
      ]
    },
    {
      "cell_type": "code",
      "execution_count": null,
      "metadata": {},
      "outputs": [],
      "source": []
    },
    {
      "cell_type": "markdown",
      "metadata": {},
      "source": [
        "## 🔀 Condicional: if / else\n",
        "\n",
        "Permite executar diferentes blocos de código dependendo de uma condição."
      ]
    },
    {
      "cell_type": "code",
      "execution_count": null,
      "metadata": {},
      "outputs": [],
      "source": [
        "idade = int(input(\"Digite sua idade: \"))\n",
        "\n",
        "if idade >= 18:\n",
        "    print(\"Você é maior de idade.\")\n",
        "else:\n",
        "    print(\"Você é menor de idade.\")"
      ]
    },
    {
      "cell_type": "markdown",
      "metadata": {},
      "source": [
        "### 🧪 Faça você mesmo:\n",
        "\n",
        "1. Peça ao usuário uma nota de 0 a 10.  \n",
        "2. Se for maior ou igual a 7, diga que ele foi aprovado; senão, reprovado.\n"
      ]
    },
    {
      "cell_type": "code",
      "execution_count": null,
      "metadata": {},
      "outputs": [],
      "source": []
    },
    {
      "cell_type": "markdown",
      "metadata": {},
      "source": [
        "## 🔁 Laços de repetição: for\n",
        "\n",
        "Usamos `for` para repetir ações com base em um iterável (lista, range, etc)."
      ]
    },
    {
      "cell_type": "code",
      "execution_count": null,
      "metadata": {},
      "outputs": [],
      "source": [
        "for i in range(1, 6):\n",
        "    print(\"Número:\", i)"
      ]
    },
    {
      "cell_type": "markdown",
      "metadata": {},
      "source": [
        "### 🧪 Faça você mesmo:\n",
        "\n",
        "1. Escreva um laço que imprima os múltiplos de 3 entre 1 e 30.\n"
      ]
    },
    {
      "cell_type": "code",
      "execution_count": null,
      "metadata": {},
      "outputs": [
        {
          "data": {
            "text/plain": [
              "0"
            ]
          },
          "execution_count": 3,
          "metadata": {},
          "output_type": "execute_result"
        }
      ],
      "source": []
    },
    {
      "cell_type": "markdown",
      "metadata": {},
      "source": [
        "## 📚 Listas\n",
        "\n",
        "Listas armazenam vários elementos em uma única variável.\n",
        "\n",
        "### Adição:"
      ]
    },
    {
      "cell_type": "code",
      "execution_count": null,
      "metadata": {},
      "outputs": [],
      "source": [
        "frutas = []\n",
        "frutas.append(\"maçã\")\n",
        "frutas.append(\"banana\")\n",
        "print(frutas)"
      ]
    },
    {
      "cell_type": "markdown",
      "metadata": {},
      "source": [
        "### Remoção:"
      ]
    },
    {
      "cell_type": "code",
      "execution_count": null,
      "metadata": {},
      "outputs": [],
      "source": [
        "frutas.remove(\"maçã\")\n",
        "print(frutas)"
      ]
    },
    {
      "cell_type": "code",
      "execution_count": null,
      "metadata": {},
      "outputs": [],
      "source": [
        "dias = ['segunda', 'terça', 'quarta', 'quinta', 'sexta', 'sábado', 'domingo']\n",
        "# Remove o último elemento da lista\n",
        "dias.pop()\n",
        "print(dias)\n",
        "\n",
        "# Remove o elemento de acordo com o índice do elemento\n",
        "dias.pop(3)\n",
        "print(dias)"
      ]
    },
    {
      "cell_type": "markdown",
      "metadata": {},
      "source": [
        "### Acesso a elementos:"
      ]
    },
    {
      "cell_type": "code",
      "execution_count": null,
      "metadata": {},
      "outputs": [],
      "source": [
        "nomes = [\"Ana\", \"Bruno\", \"Carlos\"]\n",
        "print(nomes[0])  # Primeiro\n",
        "print(nomes[-1])  # Último"
      ]
    },
    {
      "cell_type": "markdown",
      "metadata": {},
      "source": [
        "### Uso como iterável:"
      ]
    },
    {
      "cell_type": "code",
      "execution_count": null,
      "metadata": {},
      "outputs": [],
      "source": [
        "for fruta in frutas:\n",
        "    print(\"Fruta:\", fruta)"
      ]
    },
    {
      "cell_type": "markdown",
      "metadata": {},
      "source": [
        "### 🧪 Faça você mesmo:\n",
        "\n",
        "1. Crie uma lista com 4 nomes.  \n",
        "2. Adicione um nome.  \n",
        "3. Remova o segundo nome.  \n",
        "4. Imprima todos os nomes usando um `for`.\n"
      ]
    },
    {
      "cell_type": "code",
      "execution_count": null,
      "metadata": {},
      "outputs": [],
      "source": []
    },
    {
      "cell_type": "markdown",
      "metadata": {},
      "source": [
        "## ⚡ List Comprehensions\n",
        "\n",
        "Forma rápida de criar listas com base em uma regra."
      ]
    },
    {
      "cell_type": "code",
      "execution_count": null,
      "metadata": {},
      "outputs": [],
      "source": [
        "quadrados = [x**2 for x in range(1, 11)]\n",
        "print(quadrados)"
      ]
    },
    {
      "cell_type": "markdown",
      "metadata": {},
      "source": [
        "### 🧪 Faça você mesmo:\n",
        "\n",
        "1. Crie uma lista com os números pares de 0 a 20 usando list comprehension.\n"
      ]
    },
    {
      "cell_type": "code",
      "execution_count": null,
      "metadata": {},
      "outputs": [],
      "source": []
    },
    {
      "cell_type": "markdown",
      "metadata": {},
      "source": [
        "## 🧾 Finalização\n",
        "\n",
        "Parabéns! Agora você:\n",
        "\n",
        "- Conhece o ambiente do Google Colab\n",
        "- Praticou Python básico: variáveis, entrada, laços, listas e compreensões\n",
        "\n",
        "👉 **Desafio bônus (opcional):**  \n",
        "Crie um pequeno programa que:\n",
        "\n",
        "- Peça o nome de 3 alunos e suas notas  \n",
        "- Armazene em uma lista de dicionários  \n",
        "- Mostre quem foi aprovado (nota ≥ 7)\n"
      ]
    },
    {
      "cell_type": "code",
      "execution_count": null,
      "metadata": {},
      "outputs": [],
      "source": []
    }
  ],
  "metadata": {
    "kernelspec": {
      "display_name": "base",
      "language": "python",
      "name": "python3"
    },
    "language_info": {
      "codemirror_mode": {
        "name": "ipython",
        "version": 3
      },
      "file_extension": ".py",
      "mimetype": "text/x-python",
      "name": "python",
      "nbconvert_exporter": "python",
      "pygments_lexer": "ipython3",
      "version": "3.11.3"
    }
  },
  "nbformat": 4,
  "nbformat_minor": 2
}
