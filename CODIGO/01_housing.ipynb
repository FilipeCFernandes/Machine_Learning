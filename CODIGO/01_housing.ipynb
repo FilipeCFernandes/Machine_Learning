{
 "cells": [
  {
   "cell_type": "markdown",
   "id": "6ca629d6",
   "metadata": {},
   "source": [
    "# Trabalhando com Dados Reais \n",
    "\n",
    "#### Repositórios populares do Open Data \n",
    "- UC Irvine Machine Learning Repository (http://archive.ics.uci.edu/ml/)\n",
    "- Conjunto de dados no Kaggle (https://www.kaggle.com/datasets)\n",
    "- ConjuntodeDadosnoAWSda Amazon (http://aws.amazon.com/fr/datasets/)\n",
    "#### Meta portais (eles listam repositórios open data):\n",
    "- http://dataportals.org/\n",
    "- http://opendatamonitor.eu/\n",
    "- http://quandl.com/\n",
    "#### Outras páginas que listam muitos repositórios populares de open data:\n",
    "- Lista de conjuntos de dados de Aprendizado de Máquina do Wikipedia (https://\n",
    "goo.gl/SJHN2k)\n",
    "- Pergunta no Quora.com (http://goo.gl/zDR78y)\n",
    "- Conjuntos de dados no Reddit (https://www.reddit.com/r/datasets)\n",
    "\n",
    "Nesta aula, iremos trabalhar com a base de dados do repositório StatLib referente a preços do setor imobiliário na Califórnia2. Este conjunto de dados foi baseado no censo de 1990 na Califórnia. \n"
   ]
  },
  {
   "cell_type": "code",
   "execution_count": 1,
   "id": "f06afacf",
   "metadata": {},
   "outputs": [],
   "source": [
    "# Carregando as Bibliotecas\n",
    "import sys\n",
    "\n",
    "# Biblioteca de IA\n",
    "import sklearn\n",
    "\n",
    "# Biblioteca Matemática \n",
    "import numpy as np\n",
    "\n",
    "# Biblioteca para visualização dos dados\n",
    "import matplotlib as mpl\n",
    "import matplotlib.pyplot as plt\n",
    "\n",
    "# Biblioteca para manipulação das tabelas\n",
    "import pandas as pd"
   ]
  },
  {
   "cell_type": "code",
   "execution_count": 2,
   "id": "92841e6c",
   "metadata": {},
   "outputs": [],
   "source": [
    "# O caminho é o link mandado no grupo\n",
    "caminho = 'https://raw.githubusercontent.com/FilipeCFernandes/Machine_Learning/refs/heads/main/BASE_DE_DADOS/housing/housing.csv'\n",
    "\n",
    "housing = pd.read_csv(caminho)"
   ]
  },
  {
   "cell_type": "markdown",
   "id": "ffe6d02a",
   "metadata": {},
   "source": [
    "## Biblioteca Pandas\n",
    "\n",
    "<div align=\"center\">\n",
    "    <img src=\"https://github.com/FilipeCFernandes/Machine_Learning/blob/main/Imagens/Panda.png?raw=true\" width=\"500\">\n",
    "</div>\n",
    "\n",
    "\n",
    "## Funções úteis do Pandas\n",
    "\n",
    "df = pd.read_csv(path)\n",
    "\n",
    "- `df.head(n)`: mostra as `n` primeiras linhas\n",
    "- `df.tail(n)`: mostra as `n` últimas linhas\n",
    "- `df.info()`: mostra informações do DataFrame\n",
    "- `df.describe()`: estatísticas descritivas\n",
    "- `df['coluna']`: seleciona uma coluna\n",
    "- `df[['c1','c2']]`: seleciona várias colunas\n",
    "- `df[df['coluna'] > valor]`: filtra linhas\n",
    "- `df.groupby('coluna')`: agrupa dados\n",
    "- `df.sort_values(by='coluna', ascending=True/False)`: ordena dados"
   ]
  },
  {
   "cell_type": "markdown",
   "id": "fb11ef9d",
   "metadata": {},
   "source": [
    "### Exercício"
   ]
  },
  {
   "cell_type": "code",
   "execution_count": null,
   "id": "d254fa6f",
   "metadata": {},
   "outputs": [],
   "source": [
    "# 1. Mostre as 10 primeiras linhas do DataFrame housing\n",
    "\n",
    "\n"
   ]
  },
  {
   "cell_type": "code",
   "execution_count": null,
   "id": "8f19097c",
   "metadata": {},
   "outputs": [],
   "source": [
    "# 2. Mostre as 10 últimas linhas do DataFrame housing\n",
    "\n",
    "\n"
   ]
  },
  {
   "cell_type": "code",
   "execution_count": null,
   "id": "e2af3f9e",
   "metadata": {},
   "outputs": [],
   "source": [
    "# 3. Use `.info()` para obter uma descrição rápida do DataFrame\n",
    "\n"
   ]
  },
  {
   "cell_type": "markdown",
   "id": "567371ac",
   "metadata": {},
   "source": [
    "### Rápida análise estatística dos dados"
   ]
  },
  {
   "cell_type": "code",
   "execution_count": null,
   "id": "11c5011c",
   "metadata": {},
   "outputs": [],
   "source": [
    "# 4. Use `.describe()` para obter uma rápida análise estatística do DataFrame housing\n",
    "\n"
   ]
  },
  {
   "cell_type": "code",
   "execution_count": null,
   "id": "4eba8862",
   "metadata": {},
   "outputs": [],
   "source": [
    "# Visualização dos quartils\n",
    "\n"
   ]
  },
  {
   "cell_type": "markdown",
   "id": "8bbc1b2b",
   "metadata": {},
   "source": [
    "## Visualização e Análise Exploratória dos Dados\n",
    "\n",
    "A visualização de dados é uma etapa essencial na análise exploratória, pois permite observar padrões, variações e possíveis anomalias que podem não ser facilmente percebidas apenas com estatísticas resumidas. Ao representar graficamente os atributos de um conjunto de dados, torna-se mais simples identificar tendências gerais, faixas de concentração, dispersão e outros aspectos importantes da distribuição.\n",
    "\n",
    "Compreender a forma como os dados estão distribuídos auxilia na escolha de técnicas adequadas de pré-processamento, seleção de modelos e interpretação de resultados. Essa compreensão inicial também ajuda a identificar eventuais ajustes necessários, como normalizações, transformações ou tratamentos de valores extremos, sempre com base em evidências observadas na distribuição.\n",
    "\n",
    "A análise visual, portanto, não é apenas um recurso ilustrativo, mas uma ferramenta fundamental para fundamentar decisões ao longo de todo o processo de modelagem e aprendizado de máquina.\n"
   ]
  },
  {
   "cell_type": "code",
   "execution_count": 9,
   "id": "4c47cdfe",
   "metadata": {},
   "outputs": [],
   "source": [
    "# Histograma de todas as colunas numéricas do DataFrame housing\n"
   ]
  },
  {
   "cell_type": "code",
   "execution_count": null,
   "id": "fc20ba53",
   "metadata": {},
   "outputs": [],
   "source": [
    "# Faça um histograma somente dos dados da coluna `median_income`\n"
   ]
  },
  {
   "cell_type": "code",
   "execution_count": null,
   "id": "cb2bf759",
   "metadata": {},
   "outputs": [],
   "source": [
    "# Faça um histograma somente dos dados da coluna `median_house_value` e `housing_median_age`\n"
   ]
  },
  {
   "cell_type": "markdown",
   "id": "71efdc45",
   "metadata": {},
   "source": [
    "### O que podemos observar nos histogramas?\n",
    "1. .\n",
    "2. .\n",
    "3. .\n",
    "4. .\n",
    "\n"
   ]
  },
  {
   "cell_type": "markdown",
   "id": "24dfc7c9",
   "metadata": {},
   "source": [
    "## Divisão da base de dados em treino e teste\n"
   ]
  },
  {
   "cell_type": "code",
   "execution_count": null,
   "id": "faa4c21a",
   "metadata": {},
   "outputs": [],
   "source": []
  },
  {
   "cell_type": "markdown",
   "id": "2930914d",
   "metadata": {},
   "source": []
  },
  {
   "cell_type": "code",
   "execution_count": null,
   "id": "88ed2316",
   "metadata": {},
   "outputs": [],
   "source": []
  },
  {
   "cell_type": "markdown",
   "id": "be9fb9a6",
   "metadata": {},
   "source": [
    "# Bibliografia "
   ]
  },
  {
   "cell_type": "markdown",
   "id": "d5792796",
   "metadata": {},
   "source": [
    "* GÉRON, Aurélien. Mãos à obra: aprendizado de máquina com Scikit-Learn & TensorFlow: conceitos, ferramentas e técnicas para a construção de sistemas inteligentes. Rio de Janeiro: Alta Books, 2018."
   ]
  }
 ],
 "metadata": {
  "kernelspec": {
   "display_name": "base",
   "language": "python",
   "name": "python3"
  },
  "language_info": {
   "codemirror_mode": {
    "name": "ipython",
    "version": 3
   },
   "file_extension": ".py",
   "mimetype": "text/x-python",
   "name": "python",
   "nbconvert_exporter": "python",
   "pygments_lexer": "ipython3",
   "version": "3.11.3"
  }
 },
 "nbformat": 4,
 "nbformat_minor": 5
}
